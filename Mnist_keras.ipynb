{
  "nbformat": 4,
  "nbformat_minor": 0,
  "metadata": {
    "colab": {
      "name": "Mnist_keras.ipynb",
      "provenance": [],
      "collapsed_sections": [],
      "authorship_tag": "ABX9TyMtsR+hdeA/GsnAwizhzqSE",
      "include_colab_link": true
    },
    "kernelspec": {
      "name": "python3",
      "display_name": "Python 3"
    },
    "language_info": {
      "name": "python"
    }
  },
  "cells": [
    {
      "cell_type": "markdown",
      "metadata": {
        "id": "view-in-github",
        "colab_type": "text"
      },
      "source": [
        "<a href=\"https://colab.research.google.com/github/tjdgns3481/DL_Keras/blob/main/Mnist_keras.ipynb\" target=\"_parent\"><img src=\"https://colab.research.google.com/assets/colab-badge.svg\" alt=\"Open In Colab\"/></a>"
      ]
    },
    {
      "cell_type": "code",
      "metadata": {
        "id": "WSUwh_jSa78V"
      },
      "source": [
        "from tensorflow.keras.datasets import mnist\n",
        "import matplotlib.pyplot as plt"
      ],
      "execution_count": null,
      "outputs": []
    },
    {
      "cell_type": "code",
      "metadata": {
        "colab": {
          "base_uri": "https://localhost:8080/"
        },
        "id": "XzQm9zPabGIo",
        "outputId": "9bd2bb6e-29ac-4c3f-a968-fe0a0d444ace"
      },
      "source": [
        "(train,train_labels), (test, test_labels) = mnist.load_data()"
      ],
      "execution_count": null,
      "outputs": [
        {
          "output_type": "stream",
          "text": [
            "Downloading data from https://storage.googleapis.com/tensorflow/tf-keras-datasets/mnist.npz\n",
            "11493376/11490434 [==============================] - 0s 0us/step\n"
          ],
          "name": "stdout"
        }
      ]
    },
    {
      "cell_type": "code",
      "metadata": {
        "colab": {
          "base_uri": "https://localhost:8080/"
        },
        "id": "qBGuCPozbYJx",
        "outputId": "3e68c67a-1c5a-43ed-8c99-abee515519b5"
      },
      "source": [
        "print(train.shape)\n",
        "print(train_labels.shape)\n",
        "print(test.shape)"
      ],
      "execution_count": null,
      "outputs": [
        {
          "output_type": "stream",
          "text": [
            "(60000, 28, 28)\n",
            "(60000,)\n",
            "(10000, 28, 28)\n"
          ],
          "name": "stdout"
        }
      ]
    },
    {
      "cell_type": "code",
      "metadata": {
        "colab": {
          "base_uri": "https://localhost:8080/",
          "height": 265
        },
        "id": "GKcXklwVbkRR",
        "outputId": "479c7ea6-cba2-4a2b-a7ed-e2fa87c8f3bc"
      },
      "source": [
        "plt.figure()\n",
        "plt.imshow(train[0])\n",
        "plt.colorbar()\n",
        "plt.grid(False)\n",
        "plt.show()"
      ],
      "execution_count": null,
      "outputs": [
        {
          "output_type": "display_data",
          "data": {
            "image/png": "[encoded data removed]",
            "text/plain": [
              "<Figure size 432x288 with 2 Axes>"
            ]
          },
          "metadata": {
            "tags": [],
            "needs_background": "light"
          }
        }
      ]
    },
    {
      "cell_type": "code",
      "metadata": {
        "id": "T3NoiQpZb1jM"
      },
      "source": [
        "train = train.reshape((60000, 28*28))\n",
        "test = test.reshape((10000, 28*28))"
      ],
      "execution_count": null,
      "outputs": []
    },
    {
      "cell_type": "code",
      "metadata": {
        "id": "KxWy03VgckL1"
      },
      "source": [
        "from tensorflow.keras import models, layers"
      ],
      "execution_count": null,
      "outputs": []
    },
    {
      "cell_type": "code",
      "metadata": {
        "colab": {
          "base_uri": "https://localhost:8080/"
        },
        "id": "zpHDWjPBcxh8",
        "outputId": "2bc74782-33c1-4ccb-b57b-6fbcb0f8c14e"
      },
      "source": [
        "model = models.Sequential()\n",
        "model.add(layers.Dense(256,'relu',input_shape=(28*28,)))\n",
        "model.add(layers.Dense(10,'softmax'))\n",
        "model.summary()"
      ],
      "execution_count": null,
      "outputs": [
        {
          "output_type": "stream",
          "text": [
            "Model: \"sequential_3\"\n",
            "_________________________________________________________________\n",
            "Layer (type)                 Output Shape              Param #   \n",
            "=================================================================\n",
            "dense_2 (Dense)              (None, 256)               200960    \n",
            "_________________________________________________________________\n",
            "dense_3 (Dense)              (None, 10)                2570      \n",
            "=================================================================\n",
            "Total params: 203,530\n",
            "Trainable params: 203,530\n",
            "Non-trainable params: 0\n",
            "_________________________________________________________________\n"
          ],
          "name": "stdout"
        }
      ]
    },
    {
      "cell_type": "code",
      "metadata": {
        "id": "QYyaQHkedHRg"
      },
      "source": [
        "model.compile(optimizer='rmsprop',\n",
        "              loss = 'sparse_categorical_crossentropy',\n",
        "              metrics=['accuracy']\n",
        ")"
      ],
      "execution_count": null,
      "outputs": []
    },
    {
      "cell_type": "code",
      "metadata": {
        "colab": {
          "base_uri": "https://localhost:8080/"
        },
        "id": "N8mZ8sROeebn",
        "outputId": "e353b2e0-d8e1-40b2-e8be-ce3b4f539266"
      },
      "source": [
        "history = model.fit(x=train, y =train_labels, epochs =30, batch_size = 128, validation_split= 0.2)"
      ],
      "execution_count": null,
      "outputs": [
        {
          "output_type": "stream",
          "text": [
            "Epoch 1/30\n",
            "375/375 [==============================] - 3s 7ms/step - loss: 5.6853 - accuracy: 0.8805 - val_loss: 1.1894 - val_accuracy: 0.9334\n",
            "Epoch 2/30\n",
            "375/375 [==============================] - 3s 7ms/step - loss: 0.8994 - accuracy: 0.9419 - val_loss: 0.9264 - val_accuracy: 0.9347\n",
            "Epoch 3/30\n",
            "375/375 [==============================] - 2s 7ms/step - loss: 0.5335 - accuracy: 0.9570 - val_loss: 0.7345 - val_accuracy: 0.9556\n",
            "Epoch 4/30\n",
            "375/375 [==============================] - 2s 6ms/step - loss: 0.3918 - accuracy: 0.9664 - val_loss: 0.6703 - val_accuracy: 0.9572\n",
            "Epoch 5/30\n",
            "375/375 [==============================] - 2s 6ms/step - loss: 0.3225 - accuracy: 0.9715 - val_loss: 0.7254 - val_accuracy: 0.9609\n",
            "Epoch 6/30\n",
            "375/375 [==============================] - 2s 7ms/step - loss: 0.2659 - accuracy: 0.9756 - val_loss: 0.8073 - val_accuracy: 0.9596\n",
            "Epoch 7/30\n",
            "375/375 [==============================] - 3s 7ms/step - loss: 0.2183 - accuracy: 0.9795 - val_loss: 0.7512 - val_accuracy: 0.9624\n",
            "Epoch 8/30\n",
            "375/375 [==============================] - 2s 7ms/step - loss: 0.2041 - accuracy: 0.9818 - val_loss: 0.8267 - val_accuracy: 0.9602\n",
            "Epoch 9/30\n",
            "375/375 [==============================] - 2s 6ms/step - loss: 0.1942 - accuracy: 0.9830 - val_loss: 0.7464 - val_accuracy: 0.9657\n",
            "Epoch 10/30\n",
            "375/375 [==============================] - 2s 6ms/step - loss: 0.1416 - accuracy: 0.9867 - val_loss: 0.8472 - val_accuracy: 0.9628\n",
            "Epoch 11/30\n",
            "375/375 [==============================] - 2s 7ms/step - loss: 0.1476 - accuracy: 0.9867 - val_loss: 0.8359 - val_accuracy: 0.9672\n",
            "Epoch 12/30\n",
            "375/375 [==============================] - 2s 6ms/step - loss: 0.1478 - accuracy: 0.9876 - val_loss: 0.7968 - val_accuracy: 0.9663\n",
            "Epoch 13/30\n",
            "375/375 [==============================] - 3s 7ms/step - loss: 0.1380 - accuracy: 0.9881 - val_loss: 0.8937 - val_accuracy: 0.9662\n",
            "Epoch 14/30\n",
            "375/375 [==============================] - 3s 7ms/step - loss: 0.1251 - accuracy: 0.9891 - val_loss: 0.8592 - val_accuracy: 0.9704\n",
            "Epoch 15/30\n",
            "375/375 [==============================] - 3s 7ms/step - loss: 0.1242 - accuracy: 0.9899 - val_loss: 0.9231 - val_accuracy: 0.9687\n",
            "Epoch 16/30\n",
            "375/375 [==============================] - 3s 7ms/step - loss: 0.1140 - accuracy: 0.9897 - val_loss: 0.9474 - val_accuracy: 0.9680\n",
            "Epoch 17/30\n",
            "375/375 [==============================] - 2s 7ms/step - loss: 0.1115 - accuracy: 0.9907 - val_loss: 1.0074 - val_accuracy: 0.9691\n",
            "Epoch 18/30\n",
            "375/375 [==============================] - 2s 7ms/step - loss: 0.1101 - accuracy: 0.9912 - val_loss: 0.9166 - val_accuracy: 0.9710\n",
            "Epoch 19/30\n",
            "375/375 [==============================] - 3s 7ms/step - loss: 0.0935 - accuracy: 0.9926 - val_loss: 1.0501 - val_accuracy: 0.9688\n",
            "Epoch 20/30\n",
            "375/375 [==============================] - 2s 7ms/step - loss: 0.0951 - accuracy: 0.9929 - val_loss: 1.0056 - val_accuracy: 0.9680\n",
            "Epoch 21/30\n",
            "375/375 [==============================] - 2s 7ms/step - loss: 0.1006 - accuracy: 0.9926 - val_loss: 1.1287 - val_accuracy: 0.9690\n",
            "Epoch 22/30\n",
            "375/375 [==============================] - 2s 7ms/step - loss: 0.0954 - accuracy: 0.9929 - val_loss: 1.0886 - val_accuracy: 0.9701\n",
            "Epoch 23/30\n",
            "375/375 [==============================] - 3s 7ms/step - loss: 0.0822 - accuracy: 0.9932 - val_loss: 1.1489 - val_accuracy: 0.9706\n",
            "Epoch 24/30\n",
            "375/375 [==============================] - 3s 7ms/step - loss: 0.0758 - accuracy: 0.9941 - val_loss: 1.1640 - val_accuracy: 0.9708\n",
            "Epoch 25/30\n",
            "375/375 [==============================] - 3s 7ms/step - loss: 0.0914 - accuracy: 0.9937 - val_loss: 1.1633 - val_accuracy: 0.9724\n",
            "Epoch 26/30\n",
            "375/375 [==============================] - 3s 7ms/step - loss: 0.0923 - accuracy: 0.9935 - val_loss: 1.2720 - val_accuracy: 0.9693\n",
            "Epoch 27/30\n",
            "375/375 [==============================] - 3s 7ms/step - loss: 0.0779 - accuracy: 0.9944 - val_loss: 1.2721 - val_accuracy: 0.9698\n",
            "Epoch 28/30\n",
            "375/375 [==============================] - 2s 7ms/step - loss: 0.0769 - accuracy: 0.9946 - val_loss: 1.2384 - val_accuracy: 0.9703\n",
            "Epoch 29/30\n",
            "375/375 [==============================] - 3s 7ms/step - loss: 0.0835 - accuracy: 0.9944 - val_loss: 1.2177 - val_accuracy: 0.9714\n",
            "Epoch 30/30\n",
            "375/375 [==============================] - 3s 7ms/step - loss: 0.0591 - accuracy: 0.9954 - val_loss: 1.1968 - val_accuracy: 0.9705\n"
          ],
          "name": "stdout"
        }
      ]
    },
    {
      "cell_type": "code",
      "metadata": {
        "id": "sbwNV-p6gjqi"
      },
      "source": [
        "acc = history.history['accuracy']\n",
        "val_acc = history.history['val_accuracy']\n",
        "\n",
        "loss = history.history['loss']\n",
        "val_loss = history.history['val_loss']"
      ],
      "execution_count": null,
      "outputs": []
    },
    {
      "cell_type": "code",
      "metadata": {
        "colab": {
          "base_uri": "https://localhost:8080/",
          "height": 267
        },
        "id": "kI51P-BghSo2",
        "outputId": "fc26cdb7-872f-4daa-8641-7c68b7a4c1a5"
      },
      "source": [
        "epochs= range(len(acc))\n",
        "\n",
        "plt.plot(epochs,acc,'bo',label='Train_acc')\n",
        "plt.plot(epochs,val_acc,'b',label='Valid_acc')\n",
        "plt.legend()\n",
        "plt.show()"
      ],
      "execution_count": null,
      "outputs": [
        {
          "output_type": "display_data",
          "data": {
            "image/png": "[encoded data removed]",
            "text/plain": [
              "<Figure size 432x288 with 1 Axes>"
            ]
          },
          "metadata": {
            "tags": [],
            "needs_background": "light"
          }
        }
      ]
    },
    {
      "cell_type": "code",
      "metadata": {
        "colab": {
          "base_uri": "https://localhost:8080/"
        },
        "id": "V5LOEq2Zhfbs",
        "outputId": "21c95cb9-ea39-45cc-e59d-22a9600ff152"
      },
      "source": [
        "test_loss,test_acc = model.evaluate(x=test, y=test_labels)"
      ],
      "execution_count": null,
      "outputs": [
        {
          "output_type": "stream",
          "text": [
            "313/313 [==============================] - 0s 2ms/step - loss: 1.1571 - accuracy: 0.9699\n"
          ],
          "name": "stdout"
        }
      ]
    },
    {
      "cell_type": "code",
      "metadata": {
        "id": "ayariHD-iP_D"
      },
      "source": [
        "predict = model.predict(test[0].reshape((1,28*28)))"
      ],
      "execution_count": null,
      "outputs": []
    },
    {
      "cell_type": "code",
      "metadata": {
        "colab": {
          "base_uri": "https://localhost:8080/",
          "height": 265
        },
        "id": "n76-zSxAiZDB",
        "outputId": "e871f2d2-7216-41e2-de54-5467fc17ff1c"
      },
      "source": [
        "plt.figure()\n",
        "plt.imshow(test[0].reshape(28,28))\n",
        "plt.colorbar()\n",
        "plt.grid(False)\n",
        "plt.show()"
      ],
      "execution_count": null,
      "outputs": [
        {
          "output_type": "display_data",
          "data": {
            "image/png": "[encoded data removed]",
            "text/plain": [
              "<Figure size 432x288 with 2 Axes>"
            ]
          },
          "metadata": {
            "tags": [],
            "needs_background": "light"
          }
        }
      ]
    },
    {
      "cell_type": "code",
      "metadata": {
        "id": "NiIFBhHaivBW"
      },
      "source": [
        ""
      ],
      "execution_count": null,
      "outputs": []
    }
  ]
}